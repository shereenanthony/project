{
 "cells": [
  {
   "cell_type": "code",
   "execution_count": 14,
   "id": "9fd3128a",
   "metadata": {},
   "outputs": [
    {
     "data": {
      "text/html": [
       "<div>\n",
       "<style scoped>\n",
       "    .dataframe tbody tr th:only-of-type {\n",
       "        vertical-align: middle;\n",
       "    }\n",
       "\n",
       "    .dataframe tbody tr th {\n",
       "        vertical-align: top;\n",
       "    }\n",
       "\n",
       "    .dataframe thead th {\n",
       "        text-align: right;\n",
       "    }\n",
       "</style>\n",
       "<table border=\"1\" class=\"dataframe\">\n",
       "  <thead>\n",
       "    <tr style=\"text-align: right;\">\n",
       "      <th></th>\n",
       "      <th>symbol</th>\n",
       "      <th>time</th>\n",
       "      <th>open</th>\n",
       "      <th>close</th>\n",
       "      <th>high</th>\n",
       "      <th>low</th>\n",
       "      <th>volume</th>\n",
       "    </tr>\n",
       "  </thead>\n",
       "  <tbody>\n",
       "    <tr>\n",
       "      <th>0</th>\n",
       "      <td>btcusd</td>\n",
       "      <td>1364688000000</td>\n",
       "      <td>92.500000</td>\n",
       "      <td>93.033000</td>\n",
       "      <td>93.74999</td>\n",
       "      <td>91.00000</td>\n",
       "      <td>3083.079791</td>\n",
       "    </tr>\n",
       "    <tr>\n",
       "      <th>1</th>\n",
       "      <td>btcusd</td>\n",
       "      <td>1364774400000</td>\n",
       "      <td>93.250000</td>\n",
       "      <td>103.999000</td>\n",
       "      <td>105.90000</td>\n",
       "      <td>92.49999</td>\n",
       "      <td>5224.401313</td>\n",
       "    </tr>\n",
       "    <tr>\n",
       "      <th>2</th>\n",
       "      <td>btcusd</td>\n",
       "      <td>1364860800000</td>\n",
       "      <td>104.000000</td>\n",
       "      <td>118.229354</td>\n",
       "      <td>118.38670</td>\n",
       "      <td>99.00000</td>\n",
       "      <td>8376.527478</td>\n",
       "    </tr>\n",
       "    <tr>\n",
       "      <th>3</th>\n",
       "      <td>btcusd</td>\n",
       "      <td>1364947200000</td>\n",
       "      <td>117.958261</td>\n",
       "      <td>134.700000</td>\n",
       "      <td>146.88000</td>\n",
       "      <td>101.51088</td>\n",
       "      <td>12996.245072</td>\n",
       "    </tr>\n",
       "    <tr>\n",
       "      <th>4</th>\n",
       "      <td>btcusd</td>\n",
       "      <td>1365033600000</td>\n",
       "      <td>134.716560</td>\n",
       "      <td>132.899000</td>\n",
       "      <td>143.00000</td>\n",
       "      <td>119.00000</td>\n",
       "      <td>6981.668305</td>\n",
       "    </tr>\n",
       "  </tbody>\n",
       "</table>\n",
       "</div>"
      ],
      "text/plain": [
       "   symbol           time        open       close       high        low  \\\n",
       "0  btcusd  1364688000000   92.500000   93.033000   93.74999   91.00000   \n",
       "1  btcusd  1364774400000   93.250000  103.999000  105.90000   92.49999   \n",
       "2  btcusd  1364860800000  104.000000  118.229354  118.38670   99.00000   \n",
       "3  btcusd  1364947200000  117.958261  134.700000  146.88000  101.51088   \n",
       "4  btcusd  1365033600000  134.716560  132.899000  143.00000  119.00000   \n",
       "\n",
       "         volume  \n",
       "0   3083.079791  \n",
       "1   5224.401313  \n",
       "2   8376.527478  \n",
       "3  12996.245072  \n",
       "4   6981.668305  "
      ]
     },
     "execution_count": 14,
     "metadata": {},
     "output_type": "execute_result"
    }
   ],
   "source": [
    "import pandas as pd\n",
    "import matplotlib.pyplot as plt\n",
    "btc_df = pd.read_csv('bitcoin_price.csv')\n",
    "btc_df.head()"
   ]
  },
  {
   "cell_type": "code",
   "execution_count": 3,
   "id": "8777604f",
   "metadata": {},
   "outputs": [
    {
     "data": {
      "text/plain": [
       "array(['btcusd'], dtype=object)"
      ]
     },
     "execution_count": 3,
     "metadata": {},
     "output_type": "execute_result"
    }
   ],
   "source": [
    "btc_df['symbol'].unique()"
   ]
  },
  {
   "cell_type": "code",
   "execution_count": 4,
   "id": "97089ab2",
   "metadata": {},
   "outputs": [],
   "source": [
    "btc_df.drop('symbol', axis = 1, inplace = True)"
   ]
  },
  {
   "cell_type": "code",
   "execution_count": 5,
   "id": "b1160caa",
   "metadata": {},
   "outputs": [],
   "source": [
    "btc_df['time'] = pd.to_datetime(btc_df['time'], unit = 'ms')"
   ]
  },
  {
   "cell_type": "code",
   "execution_count": 6,
   "id": "1a622596",
   "metadata": {},
   "outputs": [
    {
     "data": {
      "text/html": [
       "<div>\n",
       "<style scoped>\n",
       "    .dataframe tbody tr th:only-of-type {\n",
       "        vertical-align: middle;\n",
       "    }\n",
       "\n",
       "    .dataframe tbody tr th {\n",
       "        vertical-align: top;\n",
       "    }\n",
       "\n",
       "    .dataframe thead th {\n",
       "        text-align: right;\n",
       "    }\n",
       "</style>\n",
       "<table border=\"1\" class=\"dataframe\">\n",
       "  <thead>\n",
       "    <tr style=\"text-align: right;\">\n",
       "      <th></th>\n",
       "      <th>time</th>\n",
       "      <th>open</th>\n",
       "      <th>close</th>\n",
       "      <th>high</th>\n",
       "      <th>low</th>\n",
       "      <th>volume</th>\n",
       "    </tr>\n",
       "  </thead>\n",
       "  <tbody>\n",
       "    <tr>\n",
       "      <th>0</th>\n",
       "      <td>2013-03-31</td>\n",
       "      <td>92.500000</td>\n",
       "      <td>93.033000</td>\n",
       "      <td>93.74999</td>\n",
       "      <td>91.00000</td>\n",
       "      <td>3083.079791</td>\n",
       "    </tr>\n",
       "    <tr>\n",
       "      <th>1</th>\n",
       "      <td>2013-04-01</td>\n",
       "      <td>93.250000</td>\n",
       "      <td>103.999000</td>\n",
       "      <td>105.90000</td>\n",
       "      <td>92.49999</td>\n",
       "      <td>5224.401313</td>\n",
       "    </tr>\n",
       "    <tr>\n",
       "      <th>2</th>\n",
       "      <td>2013-04-02</td>\n",
       "      <td>104.000000</td>\n",
       "      <td>118.229354</td>\n",
       "      <td>118.38670</td>\n",
       "      <td>99.00000</td>\n",
       "      <td>8376.527478</td>\n",
       "    </tr>\n",
       "    <tr>\n",
       "      <th>3</th>\n",
       "      <td>2013-04-03</td>\n",
       "      <td>117.958261</td>\n",
       "      <td>134.700000</td>\n",
       "      <td>146.88000</td>\n",
       "      <td>101.51088</td>\n",
       "      <td>12996.245072</td>\n",
       "    </tr>\n",
       "    <tr>\n",
       "      <th>4</th>\n",
       "      <td>2013-04-04</td>\n",
       "      <td>134.716560</td>\n",
       "      <td>132.899000</td>\n",
       "      <td>143.00000</td>\n",
       "      <td>119.00000</td>\n",
       "      <td>6981.668305</td>\n",
       "    </tr>\n",
       "    <tr>\n",
       "      <th>...</th>\n",
       "      <td>...</td>\n",
       "      <td>...</td>\n",
       "      <td>...</td>\n",
       "      <td>...</td>\n",
       "      <td>...</td>\n",
       "      <td>...</td>\n",
       "    </tr>\n",
       "    <tr>\n",
       "      <th>2788</th>\n",
       "      <td>2020-11-24</td>\n",
       "      <td>18364.000000</td>\n",
       "      <td>19131.000000</td>\n",
       "      <td>19400.00000</td>\n",
       "      <td>18130.00000</td>\n",
       "      <td>14937.354569</td>\n",
       "    </tr>\n",
       "    <tr>\n",
       "      <th>2789</th>\n",
       "      <td>2020-11-25</td>\n",
       "      <td>19133.654712</td>\n",
       "      <td>18727.000000</td>\n",
       "      <td>19497.00000</td>\n",
       "      <td>18500.00000</td>\n",
       "      <td>13477.604832</td>\n",
       "    </tr>\n",
       "    <tr>\n",
       "      <th>2790</th>\n",
       "      <td>2020-11-26</td>\n",
       "      <td>18726.475677</td>\n",
       "      <td>17211.695801</td>\n",
       "      <td>18908.00000</td>\n",
       "      <td>16317.00000</td>\n",
       "      <td>34343.561464</td>\n",
       "    </tr>\n",
       "    <tr>\n",
       "      <th>2791</th>\n",
       "      <td>2020-11-27</td>\n",
       "      <td>17213.000000</td>\n",
       "      <td>17171.000000</td>\n",
       "      <td>17531.00000</td>\n",
       "      <td>16501.00000</td>\n",
       "      <td>11217.912098</td>\n",
       "    </tr>\n",
       "    <tr>\n",
       "      <th>2792</th>\n",
       "      <td>2020-11-28</td>\n",
       "      <td>17171.000000</td>\n",
       "      <td>17686.840768</td>\n",
       "      <td>17705.00000</td>\n",
       "      <td>16925.00000</td>\n",
       "      <td>3535.952749</td>\n",
       "    </tr>\n",
       "  </tbody>\n",
       "</table>\n",
       "<p>2793 rows × 6 columns</p>\n",
       "</div>"
      ],
      "text/plain": [
       "           time          open         close         high          low  \\\n",
       "0    2013-03-31     92.500000     93.033000     93.74999     91.00000   \n",
       "1    2013-04-01     93.250000    103.999000    105.90000     92.49999   \n",
       "2    2013-04-02    104.000000    118.229354    118.38670     99.00000   \n",
       "3    2013-04-03    117.958261    134.700000    146.88000    101.51088   \n",
       "4    2013-04-04    134.716560    132.899000    143.00000    119.00000   \n",
       "...         ...           ...           ...          ...          ...   \n",
       "2788 2020-11-24  18364.000000  19131.000000  19400.00000  18130.00000   \n",
       "2789 2020-11-25  19133.654712  18727.000000  19497.00000  18500.00000   \n",
       "2790 2020-11-26  18726.475677  17211.695801  18908.00000  16317.00000   \n",
       "2791 2020-11-27  17213.000000  17171.000000  17531.00000  16501.00000   \n",
       "2792 2020-11-28  17171.000000  17686.840768  17705.00000  16925.00000   \n",
       "\n",
       "            volume  \n",
       "0      3083.079791  \n",
       "1      5224.401313  \n",
       "2      8376.527478  \n",
       "3     12996.245072  \n",
       "4      6981.668305  \n",
       "...            ...  \n",
       "2788  14937.354569  \n",
       "2789  13477.604832  \n",
       "2790  34343.561464  \n",
       "2791  11217.912098  \n",
       "2792   3535.952749  \n",
       "\n",
       "[2793 rows x 6 columns]"
      ]
     },
     "execution_count": 6,
     "metadata": {},
     "output_type": "execute_result"
    }
   ],
   "source": [
    "btc_df"
   ]
  },
  {
   "cell_type": "code",
   "execution_count": 7,
   "id": "ef30c953",
   "metadata": {},
   "outputs": [
    {
     "data": {
      "text/plain": [
       "dtype('<M8[ns]')"
      ]
     },
     "execution_count": 7,
     "metadata": {},
     "output_type": "execute_result"
    }
   ],
   "source": [
    "btc_df['time'].dtype"
   ]
  },
  {
   "cell_type": "code",
   "execution_count": 8,
   "id": "ed0ab23b",
   "metadata": {},
   "outputs": [
    {
     "name": "stdout",
     "output_type": "stream",
     "text": [
      "<class 'pandas.core.frame.DataFrame'>\n",
      "RangeIndex: 2793 entries, 0 to 2792\n",
      "Data columns (total 6 columns):\n",
      " #   Column  Non-Null Count  Dtype         \n",
      "---  ------  --------------  -----         \n",
      " 0   time    2793 non-null   datetime64[ns]\n",
      " 1   open    2793 non-null   float64       \n",
      " 2   close   2793 non-null   float64       \n",
      " 3   high    2793 non-null   float64       \n",
      " 4   low     2793 non-null   float64       \n",
      " 5   volume  2793 non-null   float64       \n",
      "dtypes: datetime64[ns](1), float64(5)\n",
      "memory usage: 131.0 KB\n"
     ]
    }
   ],
   "source": [
    "btc_df.info()"
   ]
  },
  {
   "cell_type": "code",
   "execution_count": 9,
   "id": "cb506b80",
   "metadata": {},
   "outputs": [
    {
     "name": "stdout",
     "output_type": "stream",
     "text": [
      "<class 'pandas.core.frame.DataFrame'>\n",
      "RangeIndex: 2793 entries, 0 to 2792\n",
      "Data columns (total 1 columns):\n",
      " #   Column  Non-Null Count  Dtype         \n",
      "---  ------  --------------  -----         \n",
      " 0   time    2793 non-null   datetime64[ns]\n",
      "dtypes: datetime64[ns](1)\n",
      "memory usage: 21.9 KB\n"
     ]
    }
   ],
   "source": [
    "btc_df[['time']].info()"
   ]
  },
  {
   "cell_type": "code",
   "execution_count": 10,
   "id": "42705b1d",
   "metadata": {},
   "outputs": [],
   "source": [
    "btc_df.set_index('time', inplace = True)"
   ]
  },
  {
   "cell_type": "code",
   "execution_count": 11,
   "id": "21c16693",
   "metadata": {},
   "outputs": [
    {
     "data": {
      "text/html": [
       "<div>\n",
       "<style scoped>\n",
       "    .dataframe tbody tr th:only-of-type {\n",
       "        vertical-align: middle;\n",
       "    }\n",
       "\n",
       "    .dataframe tbody tr th {\n",
       "        vertical-align: top;\n",
       "    }\n",
       "\n",
       "    .dataframe thead th {\n",
       "        text-align: right;\n",
       "    }\n",
       "</style>\n",
       "<table border=\"1\" class=\"dataframe\">\n",
       "  <thead>\n",
       "    <tr style=\"text-align: right;\">\n",
       "      <th></th>\n",
       "      <th>open</th>\n",
       "      <th>close</th>\n",
       "      <th>high</th>\n",
       "      <th>low</th>\n",
       "      <th>volume</th>\n",
       "    </tr>\n",
       "    <tr>\n",
       "      <th>time</th>\n",
       "      <th></th>\n",
       "      <th></th>\n",
       "      <th></th>\n",
       "      <th></th>\n",
       "      <th></th>\n",
       "    </tr>\n",
       "  </thead>\n",
       "  <tbody>\n",
       "    <tr>\n",
       "      <th>2013-03-31</th>\n",
       "      <td>92.500000</td>\n",
       "      <td>93.033000</td>\n",
       "      <td>93.74999</td>\n",
       "      <td>91.00000</td>\n",
       "      <td>3083.079791</td>\n",
       "    </tr>\n",
       "    <tr>\n",
       "      <th>2013-04-01</th>\n",
       "      <td>93.250000</td>\n",
       "      <td>103.999000</td>\n",
       "      <td>105.90000</td>\n",
       "      <td>92.49999</td>\n",
       "      <td>5224.401313</td>\n",
       "    </tr>\n",
       "    <tr>\n",
       "      <th>2013-04-02</th>\n",
       "      <td>104.000000</td>\n",
       "      <td>118.229354</td>\n",
       "      <td>118.38670</td>\n",
       "      <td>99.00000</td>\n",
       "      <td>8376.527478</td>\n",
       "    </tr>\n",
       "    <tr>\n",
       "      <th>2013-04-03</th>\n",
       "      <td>117.958261</td>\n",
       "      <td>134.700000</td>\n",
       "      <td>146.88000</td>\n",
       "      <td>101.51088</td>\n",
       "      <td>12996.245072</td>\n",
       "    </tr>\n",
       "    <tr>\n",
       "      <th>2013-04-04</th>\n",
       "      <td>134.716560</td>\n",
       "      <td>132.899000</td>\n",
       "      <td>143.00000</td>\n",
       "      <td>119.00000</td>\n",
       "      <td>6981.668305</td>\n",
       "    </tr>\n",
       "    <tr>\n",
       "      <th>...</th>\n",
       "      <td>...</td>\n",
       "      <td>...</td>\n",
       "      <td>...</td>\n",
       "      <td>...</td>\n",
       "      <td>...</td>\n",
       "    </tr>\n",
       "    <tr>\n",
       "      <th>2020-11-24</th>\n",
       "      <td>18364.000000</td>\n",
       "      <td>19131.000000</td>\n",
       "      <td>19400.00000</td>\n",
       "      <td>18130.00000</td>\n",
       "      <td>14937.354569</td>\n",
       "    </tr>\n",
       "    <tr>\n",
       "      <th>2020-11-25</th>\n",
       "      <td>19133.654712</td>\n",
       "      <td>18727.000000</td>\n",
       "      <td>19497.00000</td>\n",
       "      <td>18500.00000</td>\n",
       "      <td>13477.604832</td>\n",
       "    </tr>\n",
       "    <tr>\n",
       "      <th>2020-11-26</th>\n",
       "      <td>18726.475677</td>\n",
       "      <td>17211.695801</td>\n",
       "      <td>18908.00000</td>\n",
       "      <td>16317.00000</td>\n",
       "      <td>34343.561464</td>\n",
       "    </tr>\n",
       "    <tr>\n",
       "      <th>2020-11-27</th>\n",
       "      <td>17213.000000</td>\n",
       "      <td>17171.000000</td>\n",
       "      <td>17531.00000</td>\n",
       "      <td>16501.00000</td>\n",
       "      <td>11217.912098</td>\n",
       "    </tr>\n",
       "    <tr>\n",
       "      <th>2020-11-28</th>\n",
       "      <td>17171.000000</td>\n",
       "      <td>17686.840768</td>\n",
       "      <td>17705.00000</td>\n",
       "      <td>16925.00000</td>\n",
       "      <td>3535.952749</td>\n",
       "    </tr>\n",
       "  </tbody>\n",
       "</table>\n",
       "<p>2793 rows × 5 columns</p>\n",
       "</div>"
      ],
      "text/plain": [
       "                    open         close         high          low        volume\n",
       "time                                                                          \n",
       "2013-03-31     92.500000     93.033000     93.74999     91.00000   3083.079791\n",
       "2013-04-01     93.250000    103.999000    105.90000     92.49999   5224.401313\n",
       "2013-04-02    104.000000    118.229354    118.38670     99.00000   8376.527478\n",
       "2013-04-03    117.958261    134.700000    146.88000    101.51088  12996.245072\n",
       "2013-04-04    134.716560    132.899000    143.00000    119.00000   6981.668305\n",
       "...                  ...           ...          ...          ...           ...\n",
       "2020-11-24  18364.000000  19131.000000  19400.00000  18130.00000  14937.354569\n",
       "2020-11-25  19133.654712  18727.000000  19497.00000  18500.00000  13477.604832\n",
       "2020-11-26  18726.475677  17211.695801  18908.00000  16317.00000  34343.561464\n",
       "2020-11-27  17213.000000  17171.000000  17531.00000  16501.00000  11217.912098\n",
       "2020-11-28  17171.000000  17686.840768  17705.00000  16925.00000   3535.952749\n",
       "\n",
       "[2793 rows x 5 columns]"
      ]
     },
     "execution_count": 11,
     "metadata": {},
     "output_type": "execute_result"
    }
   ],
   "source": [
    "btc_df"
   ]
  },
  {
   "cell_type": "code",
   "execution_count": 15,
   "id": "090ce01e",
   "metadata": {},
   "outputs": [
    {
     "data": {
      "image/png": "[encoded data removed]",
      "text/plain": [
       "<Figure size 432x288 with 1 Axes>"
      ]
     },
     "metadata": {
      "needs_background": "light"
     },
     "output_type": "display_data"
    }
   ],
   "source": [
    "btc_df[['close']].plot(logy = True)\n",
    "plt.show()"
   ]
  },
  {
   "cell_type": "code",
   "execution_count": 16,
   "id": "3959b5c6",
   "metadata": {},
   "outputs": [
    {
     "data": {
      "text/plain": [
       "<Figure size 864x576 with 0 Axes>"
      ]
     },
     "metadata": {},
     "output_type": "display_data"
    },
    {
     "data": {
      "image/png": "[encoded data removed]",
      "text/plain": [
       "<Figure size 864x576 with 1 Axes>"
      ]
     },
     "metadata": {
      "needs_background": "light"
     },
     "output_type": "display_data"
    }
   ],
   "source": [
    "fig = plt.figure(figsize = (12, 8))\n",
    "btc_df.iloc[-3000:][['close']].plot(logy = True, figsize = (12, 8))\n",
    "fig.patch.set_facecolor('w')\n",
    "plt.tight_layout()\n",
    "plt.show()"
   ]
  },
  {
   "cell_type": "code",
   "execution_count": 17,
   "id": "611f5516",
   "metadata": {},
   "outputs": [
    {
     "data": {
      "text/html": [
       "<div>\n",
       "<style scoped>\n",
       "    .dataframe tbody tr th:only-of-type {\n",
       "        vertical-align: middle;\n",
       "    }\n",
       "\n",
       "    .dataframe tbody tr th {\n",
       "        vertical-align: top;\n",
       "    }\n",
       "\n",
       "    .dataframe thead th {\n",
       "        text-align: right;\n",
       "    }\n",
       "</style>\n",
       "<table border=\"1\" class=\"dataframe\">\n",
       "  <thead>\n",
       "    <tr style=\"text-align: right;\">\n",
       "      <th></th>\n",
       "      <th>symbol</th>\n",
       "      <th>open</th>\n",
       "      <th>close</th>\n",
       "      <th>high</th>\n",
       "      <th>low</th>\n",
       "      <th>volume</th>\n",
       "    </tr>\n",
       "    <tr>\n",
       "      <th>time</th>\n",
       "      <th></th>\n",
       "      <th></th>\n",
       "      <th></th>\n",
       "      <th></th>\n",
       "      <th></th>\n",
       "      <th></th>\n",
       "    </tr>\n",
       "  </thead>\n",
       "  <tbody>\n",
       "    <tr>\n",
       "      <th>1364688000000</th>\n",
       "      <td>btcusd</td>\n",
       "      <td>92.500000</td>\n",
       "      <td>93.033000</td>\n",
       "      <td>93.74999</td>\n",
       "      <td>91.00000</td>\n",
       "      <td>3083.079791</td>\n",
       "    </tr>\n",
       "    <tr>\n",
       "      <th>1364774400000</th>\n",
       "      <td>btcusd</td>\n",
       "      <td>93.250000</td>\n",
       "      <td>103.999000</td>\n",
       "      <td>105.90000</td>\n",
       "      <td>92.49999</td>\n",
       "      <td>5224.401313</td>\n",
       "    </tr>\n",
       "    <tr>\n",
       "      <th>1364860800000</th>\n",
       "      <td>btcusd</td>\n",
       "      <td>104.000000</td>\n",
       "      <td>118.229354</td>\n",
       "      <td>118.38670</td>\n",
       "      <td>99.00000</td>\n",
       "      <td>8376.527478</td>\n",
       "    </tr>\n",
       "    <tr>\n",
       "      <th>1364947200000</th>\n",
       "      <td>btcusd</td>\n",
       "      <td>117.958261</td>\n",
       "      <td>134.700000</td>\n",
       "      <td>146.88000</td>\n",
       "      <td>101.51088</td>\n",
       "      <td>12996.245072</td>\n",
       "    </tr>\n",
       "    <tr>\n",
       "      <th>1365033600000</th>\n",
       "      <td>btcusd</td>\n",
       "      <td>134.716560</td>\n",
       "      <td>132.899000</td>\n",
       "      <td>143.00000</td>\n",
       "      <td>119.00000</td>\n",
       "      <td>6981.668305</td>\n",
       "    </tr>\n",
       "  </tbody>\n",
       "</table>\n",
       "</div>"
      ],
      "text/plain": [
       "               symbol        open       close       high        low  \\\n",
       "time                                                                  \n",
       "1364688000000  btcusd   92.500000   93.033000   93.74999   91.00000   \n",
       "1364774400000  btcusd   93.250000  103.999000  105.90000   92.49999   \n",
       "1364860800000  btcusd  104.000000  118.229354  118.38670   99.00000   \n",
       "1364947200000  btcusd  117.958261  134.700000  146.88000  101.51088   \n",
       "1365033600000  btcusd  134.716560  132.899000  143.00000  119.00000   \n",
       "\n",
       "                     volume  \n",
       "time                         \n",
       "1364688000000   3083.079791  \n",
       "1364774400000   5224.401313  \n",
       "1364860800000   8376.527478  \n",
       "1364947200000  12996.245072  \n",
       "1365033600000   6981.668305  "
      ]
     },
     "execution_count": 17,
     "metadata": {},
     "output_type": "execute_result"
    }
   ],
   "source": [
    "btc_df2 = pd.read_csv('bitcoin_price.csv', index_col = 'time', parse_dates = ['time'], infer_datetime_format = True)\n",
    "btc_df2.head()\n"
   ]
  },
  {
   "cell_type": "code",
   "execution_count": 18,
   "id": "636e80b9",
   "metadata": {},
   "outputs": [
    {
     "data": {
      "text/html": [
       "<div>\n",
       "<style scoped>\n",
       "    .dataframe tbody tr th:only-of-type {\n",
       "        vertical-align: middle;\n",
       "    }\n",
       "\n",
       "    .dataframe tbody tr th {\n",
       "        vertical-align: top;\n",
       "    }\n",
       "\n",
       "    .dataframe thead th {\n",
       "        text-align: right;\n",
       "    }\n",
       "</style>\n",
       "<table border=\"1\" class=\"dataframe\">\n",
       "  <thead>\n",
       "    <tr style=\"text-align: right;\">\n",
       "      <th></th>\n",
       "      <th>symbol</th>\n",
       "      <th>open</th>\n",
       "      <th>close</th>\n",
       "      <th>high</th>\n",
       "      <th>low</th>\n",
       "      <th>volume</th>\n",
       "    </tr>\n",
       "    <tr>\n",
       "      <th>time</th>\n",
       "      <th></th>\n",
       "      <th></th>\n",
       "      <th></th>\n",
       "      <th></th>\n",
       "      <th></th>\n",
       "      <th></th>\n",
       "    </tr>\n",
       "  </thead>\n",
       "  <tbody>\n",
       "    <tr>\n",
       "      <th>2013-03-31</th>\n",
       "      <td>btcusd</td>\n",
       "      <td>92.500000</td>\n",
       "      <td>93.033000</td>\n",
       "      <td>93.74999</td>\n",
       "      <td>91.00000</td>\n",
       "      <td>3083.079791</td>\n",
       "    </tr>\n",
       "    <tr>\n",
       "      <th>2013-04-01</th>\n",
       "      <td>btcusd</td>\n",
       "      <td>93.250000</td>\n",
       "      <td>103.999000</td>\n",
       "      <td>105.90000</td>\n",
       "      <td>92.49999</td>\n",
       "      <td>5224.401313</td>\n",
       "    </tr>\n",
       "    <tr>\n",
       "      <th>2013-04-02</th>\n",
       "      <td>btcusd</td>\n",
       "      <td>104.000000</td>\n",
       "      <td>118.229354</td>\n",
       "      <td>118.38670</td>\n",
       "      <td>99.00000</td>\n",
       "      <td>8376.527478</td>\n",
       "    </tr>\n",
       "    <tr>\n",
       "      <th>2013-04-03</th>\n",
       "      <td>btcusd</td>\n",
       "      <td>117.958261</td>\n",
       "      <td>134.700000</td>\n",
       "      <td>146.88000</td>\n",
       "      <td>101.51088</td>\n",
       "      <td>12996.245072</td>\n",
       "    </tr>\n",
       "    <tr>\n",
       "      <th>2013-04-04</th>\n",
       "      <td>btcusd</td>\n",
       "      <td>134.716560</td>\n",
       "      <td>132.899000</td>\n",
       "      <td>143.00000</td>\n",
       "      <td>119.00000</td>\n",
       "      <td>6981.668305</td>\n",
       "    </tr>\n",
       "  </tbody>\n",
       "</table>\n",
       "</div>"
      ],
      "text/plain": [
       "            symbol        open       close       high        low        volume\n",
       "time                                                                          \n",
       "2013-03-31  btcusd   92.500000   93.033000   93.74999   91.00000   3083.079791\n",
       "2013-04-01  btcusd   93.250000  103.999000  105.90000   92.49999   5224.401313\n",
       "2013-04-02  btcusd  104.000000  118.229354  118.38670   99.00000   8376.527478\n",
       "2013-04-03  btcusd  117.958261  134.700000  146.88000  101.51088  12996.245072\n",
       "2013-04-04  btcusd  134.716560  132.899000  143.00000  119.00000   6981.668305"
      ]
     },
     "execution_count": 18,
     "metadata": {},
     "output_type": "execute_result"
    }
   ],
   "source": [
    "from types import BuiltinFunctionType\n",
    "\n",
    "\n",
    "date_parser = lambda x: pd.to_datetime(x, unit = 'ms')\n",
    "\n",
    "btc_df2 = pd.read_csv('bitcoin_price.csv', index_col = 'time', parse_dates = ['time'], date_parser = date_parser)\n",
    "\n",
    "btc_df2.head()"
   ]
  },
  {
   "cell_type": "code",
   "execution_count": 19,
   "id": "5b204068",
   "metadata": {},
   "outputs": [
    {
     "data": {
      "text/html": [
       "<div>\n",
       "<style scoped>\n",
       "    .dataframe tbody tr th:only-of-type {\n",
       "        vertical-align: middle;\n",
       "    }\n",
       "\n",
       "    .dataframe tbody tr th {\n",
       "        vertical-align: top;\n",
       "    }\n",
       "\n",
       "    .dataframe thead th {\n",
       "        text-align: right;\n",
       "    }\n",
       "</style>\n",
       "<table border=\"1\" class=\"dataframe\">\n",
       "  <thead>\n",
       "    <tr style=\"text-align: right;\">\n",
       "      <th></th>\n",
       "      <th>symbol</th>\n",
       "      <th>time</th>\n",
       "      <th>open</th>\n",
       "      <th>close</th>\n",
       "      <th>high</th>\n",
       "      <th>low</th>\n",
       "      <th>volume</th>\n",
       "    </tr>\n",
       "  </thead>\n",
       "  <tbody>\n",
       "    <tr>\n",
       "      <th>2</th>\n",
       "      <td>btcusd</td>\n",
       "      <td>1364860800000</td>\n",
       "      <td>104.000000</td>\n",
       "      <td>118.229354</td>\n",
       "      <td>118.3867</td>\n",
       "      <td>99.00000</td>\n",
       "      <td>8376.527478</td>\n",
       "    </tr>\n",
       "    <tr>\n",
       "      <th>3</th>\n",
       "      <td>btcusd</td>\n",
       "      <td>1364947200000</td>\n",
       "      <td>117.958261</td>\n",
       "      <td>134.700000</td>\n",
       "      <td>146.8800</td>\n",
       "      <td>101.51088</td>\n",
       "      <td>12996.245072</td>\n",
       "    </tr>\n",
       "    <tr>\n",
       "      <th>4</th>\n",
       "      <td>btcusd</td>\n",
       "      <td>1365033600000</td>\n",
       "      <td>134.716560</td>\n",
       "      <td>132.899000</td>\n",
       "      <td>143.0000</td>\n",
       "      <td>119.00000</td>\n",
       "      <td>6981.668305</td>\n",
       "    </tr>\n",
       "    <tr>\n",
       "      <th>5</th>\n",
       "      <td>btcusd</td>\n",
       "      <td>1365120000000</td>\n",
       "      <td>130.100010</td>\n",
       "      <td>142.300000</td>\n",
       "      <td>145.0000</td>\n",
       "      <td>128.25000</td>\n",
       "      <td>5234.882203</td>\n",
       "    </tr>\n",
       "    <tr>\n",
       "      <th>6</th>\n",
       "      <td>btcusd</td>\n",
       "      <td>1365206400000</td>\n",
       "      <td>142.800000</td>\n",
       "      <td>143.050000</td>\n",
       "      <td>144.0000</td>\n",
       "      <td>139.00000</td>\n",
       "      <td>2009.128625</td>\n",
       "    </tr>\n",
       "    <tr>\n",
       "      <th>7</th>\n",
       "      <td>btcusd</td>\n",
       "      <td>1365292800000</td>\n",
       "      <td>143.500000</td>\n",
       "      <td>162.304000</td>\n",
       "      <td>164.7500</td>\n",
       "      <td>142.75000</td>\n",
       "      <td>3725.067645</td>\n",
       "    </tr>\n",
       "    <tr>\n",
       "      <th>8</th>\n",
       "      <td>btcusd</td>\n",
       "      <td>1365379200000</td>\n",
       "      <td>163.900000</td>\n",
       "      <td>186.985000</td>\n",
       "      <td>194.5700</td>\n",
       "      <td>163.20000</td>\n",
       "      <td>10895.827414</td>\n",
       "    </tr>\n",
       "    <tr>\n",
       "      <th>9</th>\n",
       "      <td>btcusd</td>\n",
       "      <td>1365465600000</td>\n",
       "      <td>186.800000</td>\n",
       "      <td>232.990000</td>\n",
       "      <td>249.9700</td>\n",
       "      <td>186.80000</td>\n",
       "      <td>6073.373146</td>\n",
       "    </tr>\n",
       "    <tr>\n",
       "      <th>10</th>\n",
       "      <td>btcusd</td>\n",
       "      <td>1365552000000</td>\n",
       "      <td>228.669000</td>\n",
       "      <td>162.000000</td>\n",
       "      <td>290.0000</td>\n",
       "      <td>19.90000</td>\n",
       "      <td>16070.642744</td>\n",
       "    </tr>\n",
       "    <tr>\n",
       "      <th>11</th>\n",
       "      <td>btcusd</td>\n",
       "      <td>1365638400000</td>\n",
       "      <td>162.000000</td>\n",
       "      <td>100.000000</td>\n",
       "      <td>205.0000</td>\n",
       "      <td>1.06000</td>\n",
       "      <td>16914.656315</td>\n",
       "    </tr>\n",
       "    <tr>\n",
       "      <th>12</th>\n",
       "      <td>btcusd</td>\n",
       "      <td>1365724800000</td>\n",
       "      <td>109.000000</td>\n",
       "      <td>112.000000</td>\n",
       "      <td>157.0000</td>\n",
       "      <td>51.00000</td>\n",
       "      <td>38693.955304</td>\n",
       "    </tr>\n",
       "  </tbody>\n",
       "</table>\n",
       "</div>"
      ],
      "text/plain": [
       "    symbol           time        open       close      high        low  \\\n",
       "2   btcusd  1364860800000  104.000000  118.229354  118.3867   99.00000   \n",
       "3   btcusd  1364947200000  117.958261  134.700000  146.8800  101.51088   \n",
       "4   btcusd  1365033600000  134.716560  132.899000  143.0000  119.00000   \n",
       "5   btcusd  1365120000000  130.100010  142.300000  145.0000  128.25000   \n",
       "6   btcusd  1365206400000  142.800000  143.050000  144.0000  139.00000   \n",
       "7   btcusd  1365292800000  143.500000  162.304000  164.7500  142.75000   \n",
       "8   btcusd  1365379200000  163.900000  186.985000  194.5700  163.20000   \n",
       "9   btcusd  1365465600000  186.800000  232.990000  249.9700  186.80000   \n",
       "10  btcusd  1365552000000  228.669000  162.000000  290.0000   19.90000   \n",
       "11  btcusd  1365638400000  162.000000  100.000000  205.0000    1.06000   \n",
       "12  btcusd  1365724800000  109.000000  112.000000  157.0000   51.00000   \n",
       "\n",
       "          volume  \n",
       "2    8376.527478  \n",
       "3   12996.245072  \n",
       "4    6981.668305  \n",
       "5    5234.882203  \n",
       "6    2009.128625  \n",
       "7    3725.067645  \n",
       "8   10895.827414  \n",
       "9    6073.373146  \n",
       "10  16070.642744  \n",
       "11  16914.656315  \n",
       "12  38693.955304  "
      ]
     },
     "execution_count": 19,
     "metadata": {},
     "output_type": "execute_result"
    }
   ],
   "source": [
    "btc_df.loc['1-1-2019' : '12-31-2019']"
   ]
  },
  {
   "cell_type": "code",
   "execution_count": null,
   "id": "86833fab",
   "metadata": {},
   "outputs": [],
   "source": []
  },
  {
   "cell_type": "code",
   "execution_count": 21,
   "id": "7ef372ca",
   "metadata": {},
   "outputs": [],
   "source": [
    "close_array = btc_df['close'].values"
   ]
  },
  {
   "cell_type": "code",
   "execution_count": 22,
   "id": "b3f6ea29",
   "metadata": {},
   "outputs": [
    {
     "data": {
      "text/plain": [
       "array([   93.033     ,   103.999     ,   118.22935407, ...,\n",
       "       17211.69580098, 17171.        , 17686.840768  ])"
      ]
     },
     "execution_count": 22,
     "metadata": {},
     "output_type": "execute_result"
    }
   ],
   "source": [
    "close_array"
   ]
  },
  {
   "cell_type": "code",
   "execution_count": 23,
   "id": "3acf9d2e",
   "metadata": {},
   "outputs": [],
   "source": [
    "import numpy as np\n",
    "\n",
    "close_list = btc_df['close'].to_list()"
   ]
  },
  {
   "cell_type": "code",
   "execution_count": 24,
   "id": "a8a84c4a",
   "metadata": {},
   "outputs": [],
   "source": [
    "close_array = np.array(close_list)"
   ]
  },
  {
   "cell_type": "code",
   "execution_count": 25,
   "id": "16a1f66e",
   "metadata": {},
   "outputs": [
    {
     "name": "stdout",
     "output_type": "stream",
     "text": [
      "5.34 µs ± 504 ns per loop (mean ± std. dev. of 7 runs, 100,000 loops each)\n"
     ]
    }
   ],
   "source": [
    "%timeit kd_close = close_array / 1000"
   ]
  },
  {
   "cell_type": "code",
   "execution_count": 26,
   "id": "4be80dff",
   "metadata": {},
   "outputs": [
    {
     "name": "stdout",
     "output_type": "stream",
     "text": [
      "252 µs ± 24.1 µs per loop (mean ± std. dev. of 7 runs, 1,000 loops each)\n"
     ]
    }
   ],
   "source": [
    "%timeit kd_close_list = [c / 1000 for c in close_list]"
   ]
  },
  {
   "cell_type": "code",
   "execution_count": 27,
   "id": "2dac7f1c",
   "metadata": {},
   "outputs": [
    {
     "data": {
      "text/plain": [
       "array([2.86828162e+05, 5.43332512e+05, 9.90351433e+05, ...,\n",
       "       5.91110933e+08, 1.92622769e+08, 6.25398332e+07])"
      ]
     },
     "execution_count": 27,
     "metadata": {},
     "output_type": "execute_result"
    }
   ],
   "source": [
    "volume_array = btc_df['volume'].values\n",
    "close_array * volume_array"
   ]
  },
  {
   "cell_type": "code",
   "execution_count": 28,
   "id": "74cc3337",
   "metadata": {},
   "outputs": [
    {
     "data": {
      "text/plain": [
       "0       2.868282e+05\n",
       "1       5.433325e+05\n",
       "2       9.903514e+05\n",
       "3       1.750594e+06\n",
       "4       9.278567e+05\n",
       "            ...     \n",
       "2788    2.857665e+08\n",
       "2789    2.523951e+08\n",
       "2790    5.911109e+08\n",
       "2791    1.926228e+08\n",
       "2792    6.253983e+07\n",
       "Name: market_cap, Length: 2793, dtype: float64"
      ]
     },
     "execution_count": 28,
     "metadata": {},
     "output_type": "execute_result"
    }
   ],
   "source": [
    "btc_df['market_cap'] = btc_df['close'] * btc_df['volume']\n",
    "btc_df['market_cap']"
   ]
  },
  {
   "cell_type": "code",
   "execution_count": 29,
   "id": "3f47da61",
   "metadata": {},
   "outputs": [
    {
     "data": {
      "text/plain": [
       "0       4.532954\n",
       "1       4.644381\n",
       "2       4.772626\n",
       "3       4.903050\n",
       "4       4.889589\n",
       "          ...   \n",
       "2788    9.859065\n",
       "2789    9.837722\n",
       "2790    9.753344\n",
       "2791    9.750977\n",
       "2792    9.780576\n",
       "Name: close, Length: 2793, dtype: float64"
      ]
     },
     "execution_count": 29,
     "metadata": {},
     "output_type": "execute_result"
    }
   ],
   "source": [
    "np.log(btc_df['close'])"
   ]
  },
  {
   "cell_type": "code",
   "execution_count": null,
   "id": "0706b437",
   "metadata": {},
   "outputs": [],
   "source": []
  }
 ],
 "metadata": {
  "kernelspec": {
   "display_name": "Python 3 (ipykernel)",
   "language": "python",
   "name": "python3"
  },
  "language_info": {
   "codemirror_mode": {
    "name": "ipython",
    "version": 3
   },
   "file_extension": ".py",
   "mimetype": "text/x-python",
   "name": "python",
   "nbconvert_exporter": "python",
   "pygments_lexer": "ipython3",
   "version": "3.9.12"
  }
 },
 "nbformat": 4,
 "nbformat_minor": 5
}
